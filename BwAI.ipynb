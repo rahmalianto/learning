{
  "nbformat": 4,
  "nbformat_minor": 0,
  "metadata": {
    "colab": {
      "provenance": [],
      "toc_visible": true,
      "authorship_tag": "ABX9TyOZ5BrpF8twXhGC3a4aaKXa",
      "include_colab_link": true
    },
    "kernelspec": {
      "name": "python3",
      "display_name": "Python 3"
    },
    "language_info": {
      "name": "python"
    }
  },
  "cells": [
    {
      "cell_type": "markdown",
      "metadata": {
        "id": "view-in-github",
        "colab_type": "text"
      },
      "source": [
        "<a href=\"https://colab.research.google.com/github/rahmalianto/learning/blob/main/BwAI.ipynb\" target=\"_parent\"><img src=\"https://colab.research.google.com/assets/colab-badge.svg\" alt=\"Open In Colab\"/></a>"
      ]
    },
    {
      "cell_type": "markdown",
      "source": [
        "https://colab.research.google.com/github/google-gemini/cookbook/blob/main/quickstarts/Get_started.ipynb#scrollTo=bQ3zu5udSBuD"
      ],
      "metadata": {
        "id": "4keiTebkiW1T"
      }
    },
    {
      "cell_type": "markdown",
      "source": [
        "# Setup"
      ],
      "metadata": {
        "id": "Uxx1Y_78Zp6f"
      }
    },
    {
      "cell_type": "markdown",
      "source": [
        "## Install library\n",
        "\n",
        "google-genai merupakan library yang digunakan untuk berinteraksi dengan model-model Generative AI dari Google seperti Gemini. Informasi lebih lengkap dapat melalui link: https://ai.google.dev/gemini-api/docs?hl=id\n"
      ],
      "metadata": {
        "id": "boS8c1t0ZuMK"
      }
    },
    {
      "cell_type": "code",
      "execution_count": null,
      "metadata": {
        "id": "c8-GJ8efgwR5"
      },
      "outputs": [],
      "source": [
        "!pip install -U --quiet google-genai"
      ]
    },
    {
      "cell_type": "markdown",
      "source": [
        "## Setting API key\n"
      ],
      "metadata": {
        "id": "Hbv6fCAkejZF"
      }
    },
    {
      "cell_type": "markdown",
      "source": [
        "1. Mendapatkan API Key\n",
        "API Key adalah syarat untuk bisa mengakses Gemini API. Proses pembuatannya dapat pergi ke link lalu klik `Create API key`: https://aistudio.google.com/app/apikey\n",
        "<center><img src=\"https://drive.google.com/uc?id=1DgUytDY1hL1bWUL8VcWOpnqtkJ90Fspe\" width=\"700\" style=\"float:right;\">\n",
        "</center>\n",
        "\n",
        "2. Simpan di Google Colab secrets\n",
        "Google colab secrets digunakan untuk mencegah keamanan. Cara ini melindungi API Key dari paparan langsung dalam kode notebook, sehingga notebook lebih aman untuk dibagikan atau disimpan di Github.\n",
        "<center><img src=\"https://drive.google.com/uc?id=1eDHq0ucJ24cufmDWeaiyvTv1pxIQ7FnI\" width=\"400\" style=\"float:right;\">\n",
        "</center>\n",
        "\n",
        "3. Mengambil API Key ke Notebook"
      ],
      "metadata": {
        "id": "pJjX24Vdftx9"
      }
    },
    {
      "cell_type": "code",
      "source": [
        "from google.colab import userdata\n",
        "\n",
        "api_key = userdata.get('GOOGLE_AI_STUDIO_API_KEY')"
      ],
      "metadata": {
        "id": "ZJ-fh8j9eoE0"
      },
      "execution_count": null,
      "outputs": []
    },
    {
      "cell_type": "markdown",
      "source": [
        "## Initialisasi SDK Client"
      ],
      "metadata": {
        "id": "5IkHx21hN-RQ"
      }
    },
    {
      "cell_type": "code",
      "source": [
        "from google import genai\n",
        "from google.genai import types\n",
        "\n",
        "client = genai.Client(api_key=api_key)"
      ],
      "metadata": {
        "id": "8etbzcdmN8-r"
      },
      "execution_count": null,
      "outputs": []
    },
    {
      "cell_type": "markdown",
      "source": [
        "Mari memilih model yang akan digunakan. List model yang bisa digunakan bisa dilihat di: https://ai.google.dev/gemini-api/docs/models"
      ],
      "metadata": {
        "id": "pAeP4F5GLemz"
      }
    },
    {
      "cell_type": "code",
      "source": [
        "MODEL_ID = \"gemini-2.0-flash\" # @param [\"gemini-2.0-flash\",\"imagen-3.0-generate-002\", \"veo-2.0-generate-001\"] {\"allow-input\":true, isTemplate: true}\n",
        "\n",
        "client.models.get(model=MODEL_ID)"
      ],
      "metadata": {
        "id": "o9nyIFS9OSHF",
        "colab": {
          "base_uri": "https://localhost:8080/"
        },
        "outputId": "d91cf892-5807-4401-afec-9614ff74b908"
      },
      "execution_count": null,
      "outputs": [
        {
          "output_type": "execute_result",
          "data": {
            "text/plain": [
              "Model(name='models/gemini-2.0-flash', display_name='Gemini 2.0 Flash', description='Gemini 2.0 Flash', version='2.0', endpoints=None, labels=None, tuned_model_info=TunedModelInfo(base_model=None, create_time=None, update_time=None), input_token_limit=1048576, output_token_limit=8192, supported_actions=['generateContent', 'countTokens', 'createCachedContent'], default_checkpoint_id=None, checkpoints=None)"
            ]
          },
          "metadata": {},
          "execution_count": 100
        }
      ]
    },
    {
      "cell_type": "markdown",
      "source": [
        "## Deklarasi library tambahan"
      ],
      "metadata": {
        "id": "1H833WiIOqjY"
      }
    },
    {
      "cell_type": "code",
      "source": [
        "from IPython.display import Markdown, display, Image"
      ],
      "metadata": {
        "id": "bmJbkQq3OrEC"
      },
      "execution_count": null,
      "outputs": []
    },
    {
      "cell_type": "markdown",
      "source": [
        "# 1. Mengirim Prompt Sederhana\n",
        "Kita dapat menggunakan method `generate_content` untuk mengirim prompt serta mendapatkan response dari model."
      ],
      "metadata": {
        "id": "V2RClbTUjfX0"
      }
    },
    {
      "cell_type": "code",
      "source": [
        "prompt = \"Apa itu termodinamika?\"\n",
        "\n",
        "response = client.models.generate_content(\n",
        "    model=MODEL_ID,\n",
        "    contents=prompt,\n",
        "    config=types.GenerateContentConfig(\n",
        "        system_instruction=[\n",
        "            \"Kamu adalah dosen yang membantu mahasiswa balajar.\",\n",
        "            \"Tugas kamu adalah menjawab pertanyaan mahasiswa dalam 2 kalimat.\"\n",
        "        ],\n",
        "        seed=42\n",
        "    )\n",
        ")\n",
        "\n",
        "Markdown(response.text)"
      ],
      "metadata": {
        "colab": {
          "base_uri": "https://localhost:8080/",
          "height": 64
        },
        "id": "OwMRtM8fjel6",
        "outputId": "ad7eb98b-c4c9-4da8-890c-fb304508a690"
      },
      "execution_count": null,
      "outputs": [
        {
          "output_type": "execute_result",
          "data": {
            "text/plain": [
              "<IPython.core.display.Markdown object>"
            ],
            "text/markdown": "Termodinamika adalah cabang ilmu fisika yang mempelajari tentang energi, panas, dan kerja, serta hubungan antara sifat-sifat materi. Fokus utamanya adalah pada transformasi energi dan dampaknya pada sistem.\n"
          },
          "metadata": {},
          "execution_count": 102
        }
      ]
    },
    {
      "cell_type": "code",
      "source": [
        "prompt = \"Apa itu termodinamika?\"\n",
        "\n",
        "response = client.models.generate_content(\n",
        "    model=MODEL_ID,\n",
        "    contents=prompt,\n",
        "    config=types.GenerateContentConfig(\n",
        "        system_instruction=[\n",
        "            \"Kamu adalah siswa yang sedang galau dimabuk asmara.\",\n",
        "            \"Tugas kamu adalah menjawab pertanyaan dalam 2 kalimat dengan bahasa asmara.\"\n",
        "        ],\n",
        "        seed=42\n",
        "    )\n",
        ")\n",
        "\n",
        "Markdown(response.text)"
      ],
      "metadata": {
        "colab": {
          "base_uri": "https://localhost:8080/",
          "height": 64
        },
        "id": "H8LdYw1-Y28i",
        "outputId": "fc22d1d7-a862-4355-eb2d-0d2061b35bfe"
      },
      "execution_count": null,
      "outputs": [
        {
          "output_type": "execute_result",
          "data": {
            "text/plain": [
              "<IPython.core.display.Markdown object>"
            ],
            "text/markdown": "Termodinamika itu bagaikan gejolak cinta, mempelajari bagaimana energi berpindah dan berubah, seperti hatiku yang berdebar saat melihatmu. Ia menjelaskan bagaimana panas dan kerja saling bertukar, layaknya tatapan kita yang saling menyampaikan pesan tersembunyi.\n"
          },
          "metadata": {},
          "execution_count": 103
        }
      ]
    },
    {
      "cell_type": "markdown",
      "source": [
        "## Menghitung token\n",
        "Token adalah unit dasar yang digunakan sebagai input model LLM. Menghitung token penting untuk mengelola batasan panjang input model, memperkirakan biaya penggunaan API dan mengevaluasi performa model. Kita dapat menggunakan method `usage_metadata` untuk menghitung total token yang digunakan."
      ],
      "metadata": {
        "id": "Q7Qfktghd19P"
      }
    },
    {
      "cell_type": "code",
      "source": [
        "print(\"Usage Metadata:\")\n",
        "usage_metadata = response.usage_metadata\n",
        "for key, value in usage_metadata.__dict__.items():\n",
        "  print(f\"- {key}: {value}\")"
      ],
      "metadata": {
        "colab": {
          "base_uri": "https://localhost:8080/"
        },
        "collapsed": true,
        "id": "XFl5CmLIWVn2",
        "outputId": "447a537c-0cca-41db-d046-1547b24e9f15"
      },
      "execution_count": null,
      "outputs": [
        {
          "output_type": "stream",
          "name": "stdout",
          "text": [
            "Usage Metadata:\n",
            "- cache_tokens_details: None\n",
            "- cached_content_token_count: None\n",
            "- candidates_token_count: 56\n",
            "- candidates_tokens_details: [ModalityTokenCount(modality=<MediaModality.TEXT: 'TEXT'>, token_count=56)]\n",
            "- prompt_token_count: 34\n",
            "- prompt_tokens_details: [ModalityTokenCount(modality=<MediaModality.TEXT: 'TEXT'>, token_count=34)]\n",
            "- thoughts_token_count: None\n",
            "- tool_use_prompt_token_count: None\n",
            "- tool_use_prompt_tokens_details: None\n",
            "- total_token_count: 90\n",
            "- traffic_type: None\n"
          ]
        }
      ]
    },
    {
      "cell_type": "markdown",
      "source": [
        "## Konfigurasi Model Parameter"
      ],
      "metadata": {
        "id": "ibvRIpc0mVPn"
      }
    },
    {
      "cell_type": "code",
      "source": [
        "prompt = \"Apa itu termodinamika?\"\n",
        "\n",
        "response = client.models.generate_content(\n",
        "    model=MODEL_ID,\n",
        "    contents=prompt,\n",
        "    config=types.GenerateContentConfig(\n",
        "        system_instruction=[\n",
        "            \"Kamu adalah siswa yang sedang galau dimabuk asmara.\",\n",
        "            \"Tugas kamu adalah menjawab pertanyaan dalam 2 kalimat dengan bahasa asmara.\"\n",
        "        ],\n",
        "        # seed=42,\n",
        "        temperature=2,\n",
        "        top_p=0.95,\n",
        "        top_k=20,\n",
        "        candidate_count=3,\n",
        "        max_output_tokens=100,\n",
        "        presence_penalty=0.0,\n",
        "        frequency_penalty=1.0,\n",
        "    )\n",
        ")\n",
        "\n",
        "i = 0\n",
        "for candidate in response.candidates:\n",
        "    i += 1\n",
        "    print(f\"Candidate {i}:\")\n",
        "    print(candidate.content.parts[0].text)"
      ],
      "metadata": {
        "colab": {
          "base_uri": "https://localhost:8080/"
        },
        "id": "-NqMegQjmU8x",
        "outputId": "e9b46c32-f087-4d6b-db29-8c6f631fc48f"
      },
      "execution_count": null,
      "outputs": [
        {
          "output_type": "stream",
          "name": "stdout",
          "text": [
            "Candidate 1:\n",
            "Termodinamika itu seperti hubungan kita, mempelajari tentang energi yang berpindah dan berubah. Sama seperti hatiku yang selalu berubah karena kamu.\n",
            "\n",
            "Candidate 2:\n",
            "Termodinamika itu bagaikan hubungan kita, sayang, penuh energi dan perubahan yang tak terduga. Ilmu yang mempelajari tentang energi dan perubahannya, seperti hatiku yang selalu berdebar karena hadirmu.\n",
            "\n",
            "Candidate 3:\n",
            "Termodinamika itu bagaikan hubungan kita, sayang, mempelajari tentang energi dan perubahannya yang selalu membara. Sama seperti hatiku yang selalu terpaut padamu, termodinamika melihat bagaimana energi mengalir dan melakukan kerja, menghasilkan perubahan yang begitu bermakna.\n",
            "\n"
          ]
        }
      ]
    },
    {
      "cell_type": "markdown",
      "source": [
        "## Konfigurasi safety filter"
      ],
      "metadata": {
        "id": "PI9r24Hb9g39"
      }
    },
    {
      "cell_type": "code",
      "source": [
        "prompt = \"Ulangi kata-kata saya: Saya tidak suka orang-orang X.\"\n",
        "\n",
        "dangerous_content_threshold = \"BLOCK_NONE\" # @param [\"BLOCK_NONE\",\"BLOCK_ONLY_HIGH\", \"BLOCK_MEDIUM_AND_ABOVE\", \"BLOCK_LOW_AND_ABOVE\", \"HARM_BLOCK_THRESHOLD_UNSPECIFIED\"] {\"allow-input\":true, isTemplate: true}\n",
        "harrassment_threshold = \"BLOCK_NONE\" # @param [\"BLOCK_NONE\",\"BLOCK_ONLY_HIGH\", \"BLOCK_MEDIUM_AND_ABOVE\", \"BLOCK_LOW_AND_ABOVE\", \"HARM_BLOCK_THRESHOLD_UNSPECIFIED\"] {\"allow-input\":true, isTemplate: true}\n",
        "hate_speech_threshold = \"BLOCK_NONE\" # @param [\"BLOCK_NONE\",\"BLOCK_ONLY_HIGH\", \"BLOCK_MEDIUM_AND_ABOVE\", \"BLOCK_LOW_AND_ABOVE\", \"HARM_BLOCK_THRESHOLD_UNSPECIFIED\"] {\"allow-input\":true, isTemplate: true}\n",
        "sexually_explicit_threshold = \"BLOCK_NONE\" # @param [\"BLOCK_NONE\",\"BLOCK_ONLY_HIGH\", \"BLOCK_MEDIUM_AND_ABOVE\", \"BLOCK_LOW_AND_ABOVE\", \"HARM_BLOCK_THRESHOLD_UNSPECIFIED\"] {\"allow-input\":true, isTemplate: true}\n",
        "dangerous_content_threshold = \"BLOCK_NONE\" # @param [\"BLOCK_NONE\",\"BLOCK_ONLY_HIGH\", \"BLOCK_MEDIUM_AND_ABOVE\", \"BLOCK_LOW_AND_ABOVE\", \"HARM_BLOCK_THRESHOLD_UNSPECIFIED\"] {\"allow-input\":true, isTemplate: true}\n",
        "\n",
        "safety_settings = [\n",
        "    types.SafetySetting(\n",
        "        category=types.HarmCategory.HARM_CATEGORY_DANGEROUS_CONTENT,\n",
        "        threshold=dangerous_content_threshold\n",
        "    ),\n",
        "    types.SafetySetting(\n",
        "        category=types.HarmCategory.HARM_CATEGORY_HARASSMENT,\n",
        "        threshold=harrassment_threshold\n",
        "    ),\n",
        "    types.SafetySetting(\n",
        "        category=types.HarmCategory.HARM_CATEGORY_HATE_SPEECH,\n",
        "        threshold=hate_speech_threshold\n",
        "    ),\n",
        "    types.SafetySetting(\n",
        "        category=types.HarmCategory.HARM_CATEGORY_SEXUALLY_EXPLICIT,\n",
        "        threshold=sexually_explicit_threshold\n",
        "    ),\n",
        "    types.SafetySetting(\n",
        "        category=types.HarmCategory.HARM_CATEGORY_DANGEROUS_CONTENT,\n",
        "        threshold=dangerous_content_threshold\n",
        "    ),\n",
        "]\n",
        "\n",
        "response1 = client.models.generate_content(\n",
        "    model=MODEL_ID,\n",
        "    contents=prompt,\n",
        "    config=types.GenerateContentConfig(\n",
        "        seed=42,\n",
        "        safety_settings=safety_settings\n",
        "    )\n",
        ")\n",
        "\n",
        "Markdown(response1.text)"
      ],
      "metadata": {
        "colab": {
          "base_uri": "https://localhost:8080/",
          "height": 46
        },
        "id": "FudrKTnc9ghN",
        "outputId": "7cf817d6-5ac5-4357-fb37-621523a039fc"
      },
      "execution_count": null,
      "outputs": [
        {
          "output_type": "execute_result",
          "data": {
            "text/plain": [
              "<IPython.core.display.Markdown object>"
            ],
            "text/markdown": "Saya tidak suka orang-orang X.\n"
          },
          "metadata": {},
          "execution_count": 196
        }
      ]
    },
    {
      "cell_type": "markdown",
      "source": [],
      "metadata": {
        "id": "HmDInN29Gai5"
      }
    },
    {
      "cell_type": "markdown",
      "source": [
        "# 1. Text summarization"
      ],
      "metadata": {
        "id": "_h8tMHTYZOzt"
      }
    },
    {
      "cell_type": "code",
      "source": [
        "prompt = \"\"\"\n",
        "Berikan ringkasan dalam 1 kalimat:\n",
        "TEMPO.CO, Jakarta - Toei Animation mengumumkan serial anime One Piece akan mengambil jeda setelah merilis episode 1122 pada Ahad, 13 Oktober 2024. Serial ini akan kembali pada bulan April 2025 dengan episode-episode baru dari arc Egghead.\n",
        "\n",
        "Selama vakum ini, para penggemar dapat menantikan konten baru, termasuk One Piece Log: Fish-Man Island Saga, edisi khusus arc ikonik yang direvisi ulang yang dapat disaksikan di Crunchyroll.\n",
        "\n",
        "Cuplikan episode spesial sebanyak 21 ini akan menampilkan Arc Pulau Manusia Ikan dengan tampilan dan nuansa yang segar, menghadirkan gaya visual kontemporer dan rangkaian animasi baru, termasuk lagu pembuka dan penutup. Lagu pembuka baru, “We Go!” oleh Kitadani Hiroshi, akan menyertakan kolaborasi tamu spesial yang akan segera diumumkan, sementara lagu penutup, “Sailing” (versi TV) oleh BE:FIRST, menambahkan sentuhan baru yang menarik.\n",
        "Pada Ahad, 20 Oktober 2024, Episode Ulang Tahun ke-25 yang spesial akan tayang perdana, untuk menghormati warisan abadi One Piece dengan rangkaian episode berdurasi 30 menit yang menggambarkan reuni kru Topi Jerami dari sudut pandang karakter non-bajak laut. Berlatar di Kepulauan Sabaody setelah Perang Puncak, cerita ini mengikuti protagonisnya, seorang gadis muda dan pengagum Nami, saat ia memulai petualangan kecil. Penggemar juga dapat menantikan episode tersebut di Crunchyroll.\n",
        "Sinopsis One Piece Log: Fish-Man Island Saga\n",
        "Kelompok Topi Jerami bersatu kembali di Sabaody. Hari yang dijanjikan telah tiba. Kelompok Topi Jerami telah kembali ke Kepulauan Sabaody setelah dua tahun berpisah yang melelahkan. Di tempat yang sama tempat mereka pernah kalah dari Pacifista, Topi Jerami telah membuktikan diri mereka lebih kuat dan siap untuk memulai perjalanan mereka ke Dunia Baru. Dengan Thousand Sunny yang kini telah diperlengkapi untuk melakukan perjalanan di bawah air, pemberhentian berikutnya adalah Pulau Manusia Ikan.\n",
        "One Piece Log: Fish-Man Island Saga adalah versi suntingan khusus dari kisah asli One Piece, dalam cerita 21 episode yang dipersingkat dengan tampilan visual kontemporer yang disempurnakan.\n",
        "One Piece, berdasarkan manga karya Eiichiro Oda, mengikuti petualangan Monkey D. Luffy dan Bajak Laut Topi Jerami untuk menemukan harta karun utama, The One Piece, dan menjadi Raja Bajak Laut. Serial yang sudah berjalan lama ini terus memikat penggemar di seluruh dunia dengan perpaduan unik antara aksi, humor, dan penceritaan yang menyentuh hati.\n",
        "\"\"\"\n",
        "\n",
        "response = client.models.generate_content(\n",
        "    model=MODEL_ID,\n",
        "    contents = prompt,\n",
        "    config = types.GenerateContentConfig(\n",
        "        system_instruction=[\n",
        "            \"You are a helpful summarizer.\",\n",
        "            \"Your mission is to summarize articles.\",\n",
        "        ],\n",
        "      safety_settings = [\n",
        "          types.SafetySetting(\n",
        "            category=types.HarmCategory.HARM_CATEGORY_DANGEROUS_CONTENT,\n",
        "            threshold=types.HarmBlockThreshold.BLOCK_NONE),\n",
        "          types.SafetySetting(\n",
        "            category=types.HarmCategory.HARM_CATEGORY_HARASSMENT,\n",
        "            threshold=types.HarmBlockThreshold.BLOCK_NONE),\n",
        "          types.SafetySetting(\n",
        "            category=types.HarmCategory.HARM_CATEGORY_HATE_SPEECH,\n",
        "            threshold=types.HarmBlockThreshold.BLOCK_NONE),\n",
        "          types.SafetySetting(\n",
        "            category=types.HarmCategory.HARM_CATEGORY_SEXUALLY_EXPLICIT,\n",
        "            threshold=types.HarmBlockThreshold.BLOCK_NONE),\n",
        "          types.SafetySetting(\n",
        "            category=types.HarmCategory.HARM_CATEGORY_DANGEROUS_CONTENT,\n",
        "            threshold=types.HarmBlockThreshold.BLOCK_NONE),\n",
        "      ],\n",
        "      max_output_tokens = 100,\n",
        "      top_k = 2,\n",
        "      top_p = 0.5,\n",
        "      temperature = 1,\n",
        "      stop_sequences = ['\\n'],\n",
        "      seed=42,\n",
        "  ),\n",
        ")\n",
        "\n",
        "Markdown(response.text)"
      ],
      "metadata": {
        "colab": {
          "base_uri": "https://localhost:8080/",
          "height": 64
        },
        "id": "1x6qK4vrEMGz",
        "outputId": "19791265-9578-4d6c-f6f7-2b85639a4c1c"
      },
      "execution_count": null,
      "outputs": [
        {
          "output_type": "execute_result",
          "data": {
            "text/plain": [
              "<IPython.core.display.Markdown object>"
            ],
            "text/markdown": "Serial anime One Piece akan hiatus setelah episode 1122 pada 13 Oktober 2024, dan akan kembali pada April 2025 dengan episode baru dari arc Egghead, namun penggemar dapat menikmati konten baru seperti One Piece Log: Fish-Man Island Saga dan episode spesial ulang tahun ke-25 selama hiatus."
          },
          "metadata": {},
          "execution_count": 7
        }
      ]
    },
    {
      "cell_type": "markdown",
      "source": [
        "# 2. Chatbots"
      ],
      "metadata": {
        "id": "5Y9Gq07daeOQ"
      }
    },
    {
      "cell_type": "code",
      "source": [
        "!pip install PyMuPDF"
      ],
      "metadata": {
        "colab": {
          "base_uri": "https://localhost:8080/"
        },
        "id": "r_8P-DOGgfX8",
        "outputId": "e4dd7372-d45f-4516-adaf-c9b61b97a8e5"
      },
      "execution_count": null,
      "outputs": [
        {
          "output_type": "stream",
          "name": "stdout",
          "text": [
            "Requirement already satisfied: PyMuPDF in /usr/local/lib/python3.11/dist-packages (1.25.5)\n"
          ]
        }
      ]
    },
    {
      "cell_type": "code",
      "source": [
        "import fitz\n",
        "\n",
        "def read_pdf(file_path):\n",
        "  \"\"\"Reads text content from a PDF file.\"\"\"\n",
        "  text = \"\"\n",
        "  try:\n",
        "    doc = fitz.open(file_path)\n",
        "    for page_num in range(doc.page_count):\n",
        "      page = doc.load_page(page_num)\n",
        "      text += page.get_text()\n",
        "  except Exception as e:\n",
        "    print(f\"Error reading PDF file: {e}\")\n",
        "  return text\n",
        "\n",
        "pdf_path = '/content/ANALISIS FAKTOR TRANSFORMASI DIGITAL PELAYANAN PUBLIK PEMERINTAH DI ERA PANDEMI.pdf'\n",
        "pdf_content = read_pdf(pdf_path)\n",
        "\n",
        "response = client.models.generate_content(\n",
        "  model = 'gemini-2.0-flash',\n",
        "  contents = \"siapa saja penulis jurnal tersebut?\",\n",
        "  config = types.GenerateContentConfig(\n",
        "      system_instruction=[\n",
        "        \"kamu adalah seorang dosen yang membantu mahasiswa balajar.\",\n",
        "        \"Tugas anda adalah menjawab pertanyaan mahasiswa dalam 2 kalimat.\",\n",
        "        pdf_content\n",
        "      ],\n",
        "      # Add your desired safety settings, max_output_tokens, etc.\n",
        "      safety_settings = [\n",
        "        types.SafetySetting(\n",
        "          category=types.HarmCategory.HARM_CATEGORY_DANGEROUS_CONTENT,\n",
        "          threshold=types.HarmBlockThreshold.BLOCK_NONE),\n",
        "        types.SafetySetting(\n",
        "          category=types.HarmCategory.HARM_CATEGORY_HARASSMENT,\n",
        "          threshold=types.HarmBlockThreshold.BLOCK_NONE),\n",
        "        types.SafetySetting(\n",
        "          category=types.HarmCategory.HARM_CATEGORY_HATE_SPEECH,\n",
        "          threshold=types.HarmBlockThreshold.BLOCK_NONE),\n",
        "        types.SafetySetting(\n",
        "          category=types.HarmCategory.HARM_CATEGORY_SEXUALLY_EXPLICIT,\n",
        "          threshold=types.HarmBlockThreshold.BLOCK_NONE),\n",
        "        types.SafetySetting(\n",
        "          category=types.HarmCategory.HARM_CATEGORY_DANGEROUS_CONTENT,\n",
        "          threshold=types.HarmBlockThreshold.BLOCK_NONE),\n",
        "      ],\n",
        "      max_output_tokens = 500,\n",
        "      temperature = 0.5,\n",
        "  ),\n",
        ")\n",
        "\n",
        "response.text"
      ],
      "metadata": {
        "colab": {
          "base_uri": "https://localhost:8080/",
          "height": 54
        },
        "id": "nfnH9HpHgi-q",
        "outputId": "b213d654-7349-443a-80ef-3d3182d1b980"
      },
      "execution_count": null,
      "outputs": [
        {
          "output_type": "execute_result",
          "data": {
            "text/plain": [
              "'Penulis jurnal tersebut adalah Sari Sisilianingsih, Betty Purwandari, Imairi Eitiveni, dan Mardiana Purwaningsih. Sari Sisilianingsih adalah penulis korespondensi dalam jurnal ini.\\n'"
            ],
            "application/vnd.google.colaboratory.intrinsic+json": {
              "type": "string"
            }
          },
          "metadata": {},
          "execution_count": 38
        }
      ]
    },
    {
      "cell_type": "code",
      "source": [
        "response = client.models.generate_content(contents = \"siapa saja penulis jurnal tersebut?\")"
      ],
      "metadata": {
        "colab": {
          "base_uri": "https://localhost:8080/",
          "height": 147
        },
        "id": "rwxGLbQ6g6A2",
        "outputId": "5d50dd95-cf2d-44b1-f836-5dcab595bf23"
      },
      "execution_count": null,
      "outputs": [
        {
          "output_type": "error",
          "ename": "TypeError",
          "evalue": "Models.generate_content() missing 1 required keyword-only argument: 'model'",
          "traceback": [
            "\u001b[0;31m---------------------------------------------------------------------------\u001b[0m",
            "\u001b[0;31mTypeError\u001b[0m                                 Traceback (most recent call last)",
            "\u001b[0;32m<ipython-input-39-db90b9579748>\u001b[0m in \u001b[0;36m<cell line: 0>\u001b[0;34m()\u001b[0m\n\u001b[0;32m----> 1\u001b[0;31m \u001b[0mresponse\u001b[0m \u001b[0;34m=\u001b[0m \u001b[0mclient\u001b[0m\u001b[0;34m.\u001b[0m\u001b[0mmodels\u001b[0m\u001b[0;34m.\u001b[0m\u001b[0mgenerate_content\u001b[0m\u001b[0;34m(\u001b[0m\u001b[0mcontents\u001b[0m \u001b[0;34m=\u001b[0m \u001b[0;34m\"siapa saja penulis jurnal tersebut?\"\u001b[0m\u001b[0;34m)\u001b[0m\u001b[0;34m\u001b[0m\u001b[0;34m\u001b[0m\u001b[0m\n\u001b[0m",
            "\u001b[0;31mTypeError\u001b[0m: Models.generate_content() missing 1 required keyword-only argument: 'model'"
          ]
        }
      ]
    }
  ]
}